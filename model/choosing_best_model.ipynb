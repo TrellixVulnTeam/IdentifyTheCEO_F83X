{
 "cells": [
  {
   "cell_type": "markdown",
   "metadata": {},
   "source": [
    "<h2 style='color:blue' align='center'>Sports Celebrity Image Classification<h2>"
   ]
  },
  {
   "cell_type": "code",
   "execution_count": 4,
   "metadata": {},
   "outputs": [],
   "source": [
    "%matplotlib inline\n",
    "import numpy as np\n",
    "import cv2,pywt,os,pickle\n",
    "from matplotlib import pyplot as plt\n",
    "from sklearn.svm import SVC\n",
    "from sklearn.preprocessing import StandardScaler\n",
    "from sklearn.model_selection import train_test_split\n",
    "from sklearn.pipeline import Pipeline, make_pipeline\n",
    "from sklearn.metrics import classification_report\n",
    "from sklearn import svm\n",
    "from sklearn.ensemble import RandomForestClassifier\n",
    "from sklearn.linear_model import LogisticRegression\n",
    "from sklearn.model_selection import GridSearchCV"
   ]
  },
  {
   "cell_type": "markdown",
   "metadata": {},
   "source": [
    "### Wavelet transform"
   ]
  },
  {
   "cell_type": "code",
   "execution_count": 5,
   "metadata": {},
   "outputs": [],
   "source": [
    "import numpy as np\n",
    "import pywt\n",
    "import cv2    \n",
    "\n",
    "def w2d(img, mode='haar', level=1):\n",
    "    imArray = img\n",
    "    #Datatype conversions\n",
    "    #convert to grayscale\n",
    "    imArray = cv2.cvtColor( imArray,cv2.COLOR_RGB2GRAY )\n",
    "    #convert to float\n",
    "    imArray =  np.float32(imArray)   \n",
    "    imArray /= 255;\n",
    "    # compute coefficients \n",
    "    coeffs=pywt.wavedec2(imArray, mode, level=level)\n",
    "\n",
    "    #Process Coefficients\n",
    "    coeffs_H=list(coeffs)  \n",
    "    coeffs_H[0] *= 0;  \n",
    "\n",
    "    # reconstruction\n",
    "    imArray_H=pywt.waverec2(coeffs_H, mode);\n",
    "    imArray_H *= 255;\n",
    "    imArray_H =  np.uint8(imArray_H)\n",
    "\n",
    "    return imArray_H"
   ]
  },
  {
   "cell_type": "code",
   "execution_count": 6,
   "metadata": {},
   "outputs": [
    {
     "data": {
      "text/plain": [
       "['./dataset/Tim Cook',\n",
       " './dataset/Satya Nadella',\n",
       " './dataset/Elon Musk',\n",
       " './dataset/Sundar Pichai',\n",
       " './dataset/susan wojcicki',\n",
       " './dataset/safra catz',\n",
       " './dataset/Mark Zuckerberg']"
      ]
     },
     "execution_count": 6,
     "metadata": {},
     "output_type": "execute_result"
    }
   ],
   "source": [
    "path_to_cr_data = \"./dataset/\"\n",
    "cr_img_dirs = []\n",
    "for entry in os.scandir(path_to_cr_data):\n",
    "    if entry.is_dir():\n",
    "        cr_img_dirs.append(entry.path)\n",
    "cr_img_dirs"
   ]
  },
  {
   "cell_type": "code",
   "execution_count": 7,
   "metadata": {},
   "outputs": [
    {
     "data": {
      "text/plain": [
       "{'Tim Cook': ['./dataset/Tim Cook/Tim Cook5.png',\n",
       "  './dataset/Tim Cook/Tim Cook24.png',\n",
       "  './dataset/Tim Cook/Tim Cook15.png',\n",
       "  './dataset/Tim Cook/Tim Cook23.png',\n",
       "  './dataset/Tim Cook/Tim Cook13.png',\n",
       "  './dataset/Tim Cook/Tim Cook7.png',\n",
       "  './dataset/Tim Cook/Tim Cook14.png',\n",
       "  './dataset/Tim Cook/Tim Cook16.png',\n",
       "  './dataset/Tim Cook/Tim Cook17.png',\n",
       "  './dataset/Tim Cook/Tim Cook26.png',\n",
       "  './dataset/Tim Cook/Tim Cook4.png',\n",
       "  './dataset/Tim Cook/Tim Cook18.png',\n",
       "  './dataset/Tim Cook/Tim Cook19.png',\n",
       "  './dataset/Tim Cook/Tim Cook20.png',\n",
       "  './dataset/Tim Cook/Tim Cook2.png',\n",
       "  './dataset/Tim Cook/Tim Cook10.png',\n",
       "  './dataset/Tim Cook/Tim Cook28.png',\n",
       "  './dataset/Tim Cook/Tim Cook3.png',\n",
       "  './dataset/Tim Cook/Tim Cook25.png',\n",
       "  './dataset/Tim Cook/Tim Cook22.png',\n",
       "  './dataset/Tim Cook/Tim Cook8.png',\n",
       "  './dataset/Tim Cook/Tim Cook6.png',\n",
       "  './dataset/Tim Cook/Tim Cook9.png',\n",
       "  './dataset/Tim Cook/Tim Cook1.png'],\n",
       " 'Satya Nadella': ['./dataset/Satya Nadella/Satya Nadella9.png',\n",
       "  './dataset/Satya Nadella/Satya Nadella6.png',\n",
       "  './dataset/Satya Nadella/Satya Nadella31.png',\n",
       "  './dataset/Satya Nadella/Satya Nadella32.png',\n",
       "  './dataset/Satya Nadella/Satya Nadella1.png',\n",
       "  './dataset/Satya Nadella/Satya Nadella2.png',\n",
       "  './dataset/Satya Nadella/Satya Nadella30.png',\n",
       "  './dataset/Satya Nadella/Satya Nadella17.png',\n",
       "  './dataset/Satya Nadella/Satya Nadella3.png',\n",
       "  './dataset/Satya Nadella/Satya Nadella28.png',\n",
       "  './dataset/Satya Nadella/Satya Nadella27.png',\n",
       "  './dataset/Satya Nadella/Satya Nadella20.png',\n",
       "  './dataset/Satya Nadella/Satya Nadella19.png',\n",
       "  './dataset/Satya Nadella/Satya Nadella4.png',\n",
       "  './dataset/Satya Nadella/Satya Nadella10.png',\n",
       "  './dataset/Satya Nadella/Satya Nadella26.png',\n",
       "  './dataset/Satya Nadella/Satya Nadella22.png',\n",
       "  './dataset/Satya Nadella/Satya Nadella5.png',\n",
       "  './dataset/Satya Nadella/Satya Nadella7.png',\n",
       "  './dataset/Satya Nadella/Satya Nadella25.png',\n",
       "  './dataset/Satya Nadella/Satya Nadella15.png',\n",
       "  './dataset/Satya Nadella/Satya Nadella11.png',\n",
       "  './dataset/Satya Nadella/Satya Nadella12.png',\n",
       "  './dataset/Satya Nadella/Satya Nadella24.png',\n",
       "  './dataset/Satya Nadella/Satya Nadella21.png',\n",
       "  './dataset/Satya Nadella/Satya Nadella13.png',\n",
       "  './dataset/Satya Nadella/Satya Nadella16.png'],\n",
       " 'Elon Musk': ['./dataset/Elon Musk/Elon Musk29.png',\n",
       "  './dataset/Elon Musk/Elon Musk46.png',\n",
       "  './dataset/Elon Musk/Elon Musk6.png',\n",
       "  './dataset/Elon Musk/Elon Musk26.png',\n",
       "  './dataset/Elon Musk/Elon Musk34.png',\n",
       "  './dataset/Elon Musk/Elon Musk65.png',\n",
       "  './dataset/Elon Musk/Elon Musk62.png',\n",
       "  './dataset/Elon Musk/Elon Musk5.png',\n",
       "  './dataset/Elon Musk/Elon Musk16.png',\n",
       "  './dataset/Elon Musk/Elon Musk52.png',\n",
       "  './dataset/Elon Musk/Elon Musk63.png',\n",
       "  './dataset/Elon Musk/Elon Musk55.png',\n",
       "  './dataset/Elon Musk/Elon Musk4.png',\n",
       "  './dataset/Elon Musk/Elon Musk37.png',\n",
       "  './dataset/Elon Musk/Elon Musk22.png',\n",
       "  './dataset/Elon Musk/Elon Musk25.png',\n",
       "  './dataset/Elon Musk/Elon Musk64.png',\n",
       "  './dataset/Elon Musk/Elon Musk18.png',\n",
       "  './dataset/Elon Musk/Elon Musk42.png',\n",
       "  './dataset/Elon Musk/Elon Musk45.png',\n",
       "  './dataset/Elon Musk/Elon Musk32.png',\n",
       "  './dataset/Elon Musk/Elon Musk9.png',\n",
       "  './dataset/Elon Musk/Elon Musk35.png',\n",
       "  './dataset/Elon Musk/Elon Musk13.png',\n",
       "  './dataset/Elon Musk/Elon Musk1.png',\n",
       "  './dataset/Elon Musk/Elon Musk38.png',\n",
       "  './dataset/Elon Musk/Elon Musk47.png',\n",
       "  './dataset/Elon Musk/Elon Musk30.png',\n",
       "  './dataset/Elon Musk/Elon Musk59.png',\n",
       "  './dataset/Elon Musk/Elon Musk14.png',\n",
       "  './dataset/Elon Musk/Elon Musk53.png',\n",
       "  './dataset/Elon Musk/Elon Musk2.png',\n",
       "  './dataset/Elon Musk/Elon Musk20.png',\n",
       "  './dataset/Elon Musk/Elon Musk23.png',\n",
       "  './dataset/Elon Musk/Elon Musk17.png',\n",
       "  './dataset/Elon Musk/Elon Musk28.png',\n",
       "  './dataset/Elon Musk/Elon Musk51.png',\n",
       "  './dataset/Elon Musk/Elon Musk57.png',\n",
       "  './dataset/Elon Musk/Elon Musk60.png',\n",
       "  './dataset/Elon Musk/Elon Musk3.png',\n",
       "  './dataset/Elon Musk/Elon Musk12.png',\n",
       "  './dataset/Elon Musk/Elon Musk54.png',\n",
       "  './dataset/Elon Musk/Elon Musk43.png',\n",
       "  './dataset/Elon Musk/Elon Musk10.png',\n",
       "  './dataset/Elon Musk/Elon Musk27.png',\n",
       "  './dataset/Elon Musk/Elon Musk50.png',\n",
       "  './dataset/Elon Musk/Elon Musk33.png',\n",
       "  './dataset/Elon Musk/Elon Musk21.png',\n",
       "  './dataset/Elon Musk/Elon Musk36.png',\n",
       "  './dataset/Elon Musk/Elon Musk58.png',\n",
       "  './dataset/Elon Musk/Elon Musk49.png',\n",
       "  './dataset/Elon Musk/Elon Musk7.png',\n",
       "  './dataset/Elon Musk/Elon Musk8.png',\n",
       "  './dataset/Elon Musk/Elon Musk61.png',\n",
       "  './dataset/Elon Musk/Elon Musk39.png',\n",
       "  './dataset/Elon Musk/Elon Musk31.png',\n",
       "  './dataset/Elon Musk/Elon Musk56.png',\n",
       "  './dataset/Elon Musk/Elon Musk41.png',\n",
       "  './dataset/Elon Musk/Elon Musk44.png',\n",
       "  './dataset/Elon Musk/Elon Musk11.png',\n",
       "  './dataset/Elon Musk/Elon Musk40.png',\n",
       "  './dataset/Elon Musk/Elon Musk15.png',\n",
       "  './dataset/Elon Musk/Elon Musk19.png',\n",
       "  './dataset/Elon Musk/Elon Musk48.png'],\n",
       " 'Sundar Pichai': ['./dataset/Sundar Pichai/Sundar Pichai12.png',\n",
       "  './dataset/Sundar Pichai/Sundar Pichai41.png',\n",
       "  './dataset/Sundar Pichai/Sundar Pichai10.png',\n",
       "  './dataset/Sundar Pichai/Sundar Pichai28.png',\n",
       "  './dataset/Sundar Pichai/Sundar Pichai47.png',\n",
       "  './dataset/Sundar Pichai/Sundar Pichai49.png',\n",
       "  './dataset/Sundar Pichai/Sundar Pichai22.png',\n",
       "  './dataset/Sundar Pichai/Sundar Pichai13.png',\n",
       "  './dataset/Sundar Pichai/Sundar Pichai21.png',\n",
       "  './dataset/Sundar Pichai/Sundar Pichai45.png',\n",
       "  './dataset/Sundar Pichai/Sundar Pichai5.png',\n",
       "  './dataset/Sundar Pichai/Sundar Pichai7.png',\n",
       "  './dataset/Sundar Pichai/Sundar Pichai43.png',\n",
       "  './dataset/Sundar Pichai/Sundar Pichai35.png',\n",
       "  './dataset/Sundar Pichai/Sundar Pichai6.png',\n",
       "  './dataset/Sundar Pichai/Sundar Pichai23.png',\n",
       "  './dataset/Sundar Pichai/Sundar Pichai38.png',\n",
       "  './dataset/Sundar Pichai/Sundar Pichai31.png',\n",
       "  './dataset/Sundar Pichai/Sundar Pichai19.png',\n",
       "  './dataset/Sundar Pichai/Sundar Pichai3.png',\n",
       "  './dataset/Sundar Pichai/Sundar Pichai17.png',\n",
       "  './dataset/Sundar Pichai/Sundar Pichai33.png',\n",
       "  './dataset/Sundar Pichai/Sundar Pichai29.png',\n",
       "  './dataset/Sundar Pichai/Sundar Pichai16.png',\n",
       "  './dataset/Sundar Pichai/Sundar Pichai39.png',\n",
       "  './dataset/Sundar Pichai/Sundar Pichai25.png',\n",
       "  './dataset/Sundar Pichai/Sundar Pichai51.png',\n",
       "  './dataset/Sundar Pichai/Sundar Pichai36.png',\n",
       "  './dataset/Sundar Pichai/Sundar Pichai26.png',\n",
       "  './dataset/Sundar Pichai/Sundar Pichai20.png',\n",
       "  './dataset/Sundar Pichai/Sundar Pichai4.png',\n",
       "  './dataset/Sundar Pichai/Sundar Pichai11.png',\n",
       "  './dataset/Sundar Pichai/Sundar Pichai42.png',\n",
       "  './dataset/Sundar Pichai/Sundar Pichai34.png',\n",
       "  './dataset/Sundar Pichai/Sundar Pichai50.png',\n",
       "  './dataset/Sundar Pichai/Sundar Pichai44.png',\n",
       "  './dataset/Sundar Pichai/Sundar Pichai8.png',\n",
       "  './dataset/Sundar Pichai/Sundar Pichai27.png',\n",
       "  './dataset/Sundar Pichai/Sundar Pichai40.png',\n",
       "  './dataset/Sundar Pichai/Sundar Pichai18.png',\n",
       "  './dataset/Sundar Pichai/Sundar Pichai30.png',\n",
       "  './dataset/Sundar Pichai/Sundar Pichai9.png',\n",
       "  './dataset/Sundar Pichai/Sundar Pichai48.png',\n",
       "  './dataset/Sundar Pichai/Sundar Pichai14.png',\n",
       "  './dataset/Sundar Pichai/Sundar Pichai15.png'],\n",
       " 'susan wojcicki': ['./dataset/susan wojcicki/susan wojcicki57.png',\n",
       "  './dataset/susan wojcicki/susan wojcicki70.png',\n",
       "  './dataset/susan wojcicki/susan wojcicki8.png',\n",
       "  './dataset/susan wojcicki/susan wojcicki49.png',\n",
       "  './dataset/susan wojcicki/susan wojcicki32.png',\n",
       "  './dataset/susan wojcicki/susan wojcicki41.png',\n",
       "  './dataset/susan wojcicki/susan wojcicki35.png',\n",
       "  './dataset/susan wojcicki/susan wojcicki4.png',\n",
       "  './dataset/susan wojcicki/susan wojcicki73.png',\n",
       "  './dataset/susan wojcicki/susan wojcicki77.png',\n",
       "  './dataset/susan wojcicki/susan wojcicki11.png',\n",
       "  './dataset/susan wojcicki/susan wojcicki15.png',\n",
       "  './dataset/susan wojcicki/susan wojcicki76.png',\n",
       "  './dataset/susan wojcicki/susan wojcicki13.png',\n",
       "  './dataset/susan wojcicki/susan wojcicki65.png',\n",
       "  './dataset/susan wojcicki/susan wojcicki26.png',\n",
       "  './dataset/susan wojcicki/susan wojcicki64.png',\n",
       "  './dataset/susan wojcicki/susan wojcicki33.png',\n",
       "  './dataset/susan wojcicki/susan wojcicki22.png',\n",
       "  './dataset/susan wojcicki/susan wojcicki19.png',\n",
       "  './dataset/susan wojcicki/susan wojcicki24.png',\n",
       "  './dataset/susan wojcicki/susan wojcicki34.png',\n",
       "  './dataset/susan wojcicki/susan wojcicki36.png',\n",
       "  './dataset/susan wojcicki/susan wojcicki67.png',\n",
       "  './dataset/susan wojcicki/susan wojcicki62.png',\n",
       "  './dataset/susan wojcicki/susan wojcicki27.png',\n",
       "  './dataset/susan wojcicki/susan wojcicki50.png',\n",
       "  './dataset/susan wojcicki/susan wojcicki47.png',\n",
       "  './dataset/susan wojcicki/susan wojcicki79.png',\n",
       "  './dataset/susan wojcicki/susan wojcicki2.png',\n",
       "  './dataset/susan wojcicki/susan wojcicki1.png',\n",
       "  './dataset/susan wojcicki/susan wojcicki10.png',\n",
       "  './dataset/susan wojcicki/susan wojcicki51.png',\n",
       "  './dataset/susan wojcicki/susan wojcicki38.png',\n",
       "  './dataset/susan wojcicki/susan wojcicki43.png',\n",
       "  './dataset/susan wojcicki/susan wojcicki56.png',\n",
       "  './dataset/susan wojcicki/susan wojcicki69.png',\n",
       "  './dataset/susan wojcicki/susan wojcicki55.png',\n",
       "  './dataset/susan wojcicki/susan wojcicki68.png',\n",
       "  './dataset/susan wojcicki/susan wojcicki39.png',\n",
       "  './dataset/susan wojcicki/susan wojcicki52.png',\n",
       "  './dataset/susan wojcicki/susan wojcicki63.png',\n",
       "  './dataset/susan wojcicki/susan wojcicki53.png',\n",
       "  './dataset/susan wojcicki/susan wojcicki16.png',\n",
       "  './dataset/susan wojcicki/susan wojcicki6.png',\n",
       "  './dataset/susan wojcicki/susan wojcicki7.png',\n",
       "  './dataset/susan wojcicki/susan wojcicki9.png',\n",
       "  './dataset/susan wojcicki/susan wojcicki58.png',\n",
       "  './dataset/susan wojcicki/susan wojcicki28.png',\n",
       "  './dataset/susan wojcicki/susan wojcicki37.png',\n",
       "  './dataset/susan wojcicki/susan wojcicki71.png',\n",
       "  './dataset/susan wojcicki/susan wojcicki17.png',\n",
       "  './dataset/susan wojcicki/susan wojcicki40.png',\n",
       "  './dataset/susan wojcicki/susan wojcicki44.png',\n",
       "  './dataset/susan wojcicki/susan wojcicki59.png',\n",
       "  './dataset/susan wojcicki/susan wojcicki18.png',\n",
       "  './dataset/susan wojcicki/susan wojcicki3.png',\n",
       "  './dataset/susan wojcicki/susan wojcicki45.png',\n",
       "  './dataset/susan wojcicki/susan wojcicki66.png',\n",
       "  './dataset/susan wojcicki/susan wojcicki54.png',\n",
       "  './dataset/susan wojcicki/susan wojcicki23.png',\n",
       "  './dataset/susan wojcicki/susan wojcicki42.png',\n",
       "  './dataset/susan wojcicki/susan wojcicki46.png',\n",
       "  './dataset/susan wojcicki/susan wojcicki48.png',\n",
       "  './dataset/susan wojcicki/susan wojcicki14.png',\n",
       "  './dataset/susan wojcicki/susan wojcicki21.png'],\n",
       " 'safra catz': ['./dataset/safra catz/safra catz7.png',\n",
       "  './dataset/safra catz/safra catz16.png',\n",
       "  './dataset/safra catz/safra catz37.png',\n",
       "  './dataset/safra catz/safra catz5.png',\n",
       "  './dataset/safra catz/safra catz50.png',\n",
       "  './dataset/safra catz/safra catz1.png',\n",
       "  './dataset/safra catz/safra catz25.png',\n",
       "  './dataset/safra catz/safra catz2.png',\n",
       "  './dataset/safra catz/safra catz8.png',\n",
       "  './dataset/safra catz/safra catz18.png',\n",
       "  './dataset/safra catz/safra catz10.png',\n",
       "  './dataset/safra catz/safra catz23.png',\n",
       "  './dataset/safra catz/safra catz45.png',\n",
       "  './dataset/safra catz/safra catz14.png',\n",
       "  './dataset/safra catz/safra catz41.png',\n",
       "  './dataset/safra catz/safra catz57.png',\n",
       "  './dataset/safra catz/safra catz34.png',\n",
       "  './dataset/safra catz/safra catz29.png',\n",
       "  './dataset/safra catz/safra catz58.png',\n",
       "  './dataset/safra catz/safra catz6.png',\n",
       "  './dataset/safra catz/safra catz11.png',\n",
       "  './dataset/safra catz/safra catz53.png',\n",
       "  './dataset/safra catz/safra catz46.png',\n",
       "  './dataset/safra catz/safra catz13.png',\n",
       "  './dataset/safra catz/safra catz60.png',\n",
       "  './dataset/safra catz/safra catz24.png',\n",
       "  './dataset/safra catz/safra catz15.png',\n",
       "  './dataset/safra catz/safra catz51.png',\n",
       "  './dataset/safra catz/safra catz31.png',\n",
       "  './dataset/safra catz/safra catz52.png',\n",
       "  './dataset/safra catz/safra catz61.png',\n",
       "  './dataset/safra catz/safra catz20.png',\n",
       "  './dataset/safra catz/safra catz33.png',\n",
       "  './dataset/safra catz/safra catz49.png',\n",
       "  './dataset/safra catz/safra catz30.png',\n",
       "  './dataset/safra catz/safra catz48.png',\n",
       "  './dataset/safra catz/safra catz22.png',\n",
       "  './dataset/safra catz/safra catz27.png',\n",
       "  './dataset/safra catz/safra catz38.png',\n",
       "  './dataset/safra catz/safra catz9.png',\n",
       "  './dataset/safra catz/safra catz44.png',\n",
       "  './dataset/safra catz/safra catz56.png',\n",
       "  './dataset/safra catz/safra catz39.png',\n",
       "  './dataset/safra catz/safra catz36.png',\n",
       "  './dataset/safra catz/safra catz12.png',\n",
       "  './dataset/safra catz/safra catz55.png',\n",
       "  './dataset/safra catz/safra catz21.png',\n",
       "  './dataset/safra catz/safra catz17.png'],\n",
       " 'Mark Zuckerberg': ['./dataset/Mark Zuckerberg/Mark Zuckerberg22.png',\n",
       "  './dataset/Mark Zuckerberg/Mark Zuckerberg64.png',\n",
       "  './dataset/Mark Zuckerberg/Mark Zuckerberg70.png',\n",
       "  './dataset/Mark Zuckerberg/Mark Zuckerberg44.png',\n",
       "  './dataset/Mark Zuckerberg/Mark Zuckerberg61.png',\n",
       "  './dataset/Mark Zuckerberg/Mark Zuckerberg90.png',\n",
       "  './dataset/Mark Zuckerberg/Mark Zuckerberg85.png',\n",
       "  './dataset/Mark Zuckerberg/Mark Zuckerberg74.png',\n",
       "  './dataset/Mark Zuckerberg/Mark Zuckerberg3.png',\n",
       "  './dataset/Mark Zuckerberg/Mark Zuckerberg58.png',\n",
       "  './dataset/Mark Zuckerberg/Mark Zuckerberg47.png',\n",
       "  './dataset/Mark Zuckerberg/Mark Zuckerberg12.png',\n",
       "  './dataset/Mark Zuckerberg/Mark Zuckerberg84.png',\n",
       "  './dataset/Mark Zuckerberg/Mark Zuckerberg28.png',\n",
       "  './dataset/Mark Zuckerberg/Mark Zuckerberg86.png',\n",
       "  './dataset/Mark Zuckerberg/Mark Zuckerberg88.png',\n",
       "  './dataset/Mark Zuckerberg/Mark Zuckerberg24.png',\n",
       "  './dataset/Mark Zuckerberg/Mark Zuckerberg53.png',\n",
       "  './dataset/Mark Zuckerberg/Mark Zuckerberg13.png',\n",
       "  './dataset/Mark Zuckerberg/Mark Zuckerberg17.png',\n",
       "  './dataset/Mark Zuckerberg/Mark Zuckerberg20.png',\n",
       "  './dataset/Mark Zuckerberg/Mark Zuckerberg41.png',\n",
       "  './dataset/Mark Zuckerberg/Mark Zuckerberg39.png',\n",
       "  './dataset/Mark Zuckerberg/Mark Zuckerberg34.png',\n",
       "  './dataset/Mark Zuckerberg/Mark Zuckerberg66.png',\n",
       "  './dataset/Mark Zuckerberg/Mark Zuckerberg79.png',\n",
       "  './dataset/Mark Zuckerberg/Mark Zuckerberg7.png',\n",
       "  './dataset/Mark Zuckerberg/Mark Zuckerberg51.png',\n",
       "  './dataset/Mark Zuckerberg/Mark Zuckerberg82.png',\n",
       "  './dataset/Mark Zuckerberg/Mark Zuckerberg11.png',\n",
       "  './dataset/Mark Zuckerberg/Mark Zuckerberg59.png',\n",
       "  './dataset/Mark Zuckerberg/Mark Zuckerberg69.png',\n",
       "  './dataset/Mark Zuckerberg/Mark Zuckerberg38.png',\n",
       "  './dataset/Mark Zuckerberg/Mark Zuckerberg4.png',\n",
       "  './dataset/Mark Zuckerberg/Mark Zuckerberg78.png',\n",
       "  './dataset/Mark Zuckerberg/Mark Zuckerberg25.png',\n",
       "  './dataset/Mark Zuckerberg/Mark Zuckerberg65.png',\n",
       "  './dataset/Mark Zuckerberg/Mark Zuckerberg57.png',\n",
       "  './dataset/Mark Zuckerberg/Mark Zuckerberg67.png',\n",
       "  './dataset/Mark Zuckerberg/Mark Zuckerberg42.png',\n",
       "  './dataset/Mark Zuckerberg/Mark Zuckerberg9.png',\n",
       "  './dataset/Mark Zuckerberg/Mark Zuckerberg37.png',\n",
       "  './dataset/Mark Zuckerberg/Mark Zuckerberg63.png',\n",
       "  './dataset/Mark Zuckerberg/Mark Zuckerberg5.png',\n",
       "  './dataset/Mark Zuckerberg/Mark Zuckerberg2.png',\n",
       "  './dataset/Mark Zuckerberg/Mark Zuckerberg10.png',\n",
       "  './dataset/Mark Zuckerberg/Mark Zuckerberg23.png',\n",
       "  './dataset/Mark Zuckerberg/Mark Zuckerberg36.png',\n",
       "  './dataset/Mark Zuckerberg/Mark Zuckerberg89.png',\n",
       "  './dataset/Mark Zuckerberg/Mark Zuckerberg8.png',\n",
       "  './dataset/Mark Zuckerberg/Mark Zuckerberg14.png',\n",
       "  './dataset/Mark Zuckerberg/Mark Zuckerberg43.png',\n",
       "  './dataset/Mark Zuckerberg/Mark Zuckerberg30.png',\n",
       "  './dataset/Mark Zuckerberg/Mark Zuckerberg71.png',\n",
       "  './dataset/Mark Zuckerberg/Mark Zuckerberg87.png',\n",
       "  './dataset/Mark Zuckerberg/Mark Zuckerberg77.png',\n",
       "  './dataset/Mark Zuckerberg/Mark Zuckerberg50.png',\n",
       "  './dataset/Mark Zuckerberg/Mark Zuckerberg32.png',\n",
       "  './dataset/Mark Zuckerberg/Mark Zuckerberg54.png',\n",
       "  './dataset/Mark Zuckerberg/Mark Zuckerberg49.png',\n",
       "  './dataset/Mark Zuckerberg/Mark Zuckerberg75.png',\n",
       "  './dataset/Mark Zuckerberg/Mark Zuckerberg55.png',\n",
       "  './dataset/Mark Zuckerberg/Mark Zuckerberg73.png',\n",
       "  './dataset/Mark Zuckerberg/Mark Zuckerberg21.png',\n",
       "  './dataset/Mark Zuckerberg/Mark Zuckerberg45.png',\n",
       "  './dataset/Mark Zuckerberg/Mark Zuckerberg52.png',\n",
       "  './dataset/Mark Zuckerberg/Mark Zuckerberg40.png',\n",
       "  './dataset/Mark Zuckerberg/Mark Zuckerberg35.png',\n",
       "  './dataset/Mark Zuckerberg/Mark Zuckerberg19.png',\n",
       "  './dataset/Mark Zuckerberg/Mark Zuckerberg29.png',\n",
       "  './dataset/Mark Zuckerberg/Mark Zuckerberg15.png',\n",
       "  './dataset/Mark Zuckerberg/Mark Zuckerberg62.png',\n",
       "  './dataset/Mark Zuckerberg/Mark Zuckerberg31.png',\n",
       "  './dataset/Mark Zuckerberg/Mark Zuckerberg1.png',\n",
       "  './dataset/Mark Zuckerberg/Mark Zuckerberg60.png',\n",
       "  './dataset/Mark Zuckerberg/Mark Zuckerberg72.png',\n",
       "  './dataset/Mark Zuckerberg/Mark Zuckerberg81.png',\n",
       "  './dataset/Mark Zuckerberg/Mark Zuckerberg6.png',\n",
       "  './dataset/Mark Zuckerberg/Mark Zuckerberg76.png',\n",
       "  './dataset/Mark Zuckerberg/Mark Zuckerberg26.png',\n",
       "  './dataset/Mark Zuckerberg/Mark Zuckerberg18.png']}"
      ]
     },
     "execution_count": 7,
     "metadata": {},
     "output_type": "execute_result"
    }
   ],
   "source": [
    "celebrity_file_names_dict = {}\n",
    "alias_dict = {}\n",
    "count = 0\n",
    "for img_dir in cr_img_dirs:\n",
    "    celebrity_name = img_dir.split('/')[-1]\n",
    "    file_list = []\n",
    "    for entry in os.scandir(img_dir):\n",
    "        file_list.append(entry.path)\n",
    "    alias_dict[celebrity_name] = count\n",
    "    count = count + 1\n",
    "    celebrity_file_names_dict[celebrity_name] = file_list\n",
    "celebrity_file_names_dict"
   ]
  },
  {
   "cell_type": "code",
   "execution_count": 8,
   "metadata": {
    "scrolled": true
   },
   "outputs": [
    {
     "data": {
      "text/plain": [
       "{'Tim Cook': 0,\n",
       " 'Satya Nadella': 1,\n",
       " 'Elon Musk': 2,\n",
       " 'Sundar Pichai': 3,\n",
       " 'susan wojcicki': 4,\n",
       " 'safra catz': 5,\n",
       " 'Mark Zuckerberg': 6}"
      ]
     },
     "execution_count": 8,
     "metadata": {},
     "output_type": "execute_result"
    }
   ],
   "source": [
    "alias_dict"
   ]
  },
  {
   "cell_type": "markdown",
   "metadata": {},
   "source": [
    "### Images in cropped folder can be used for model training. We will use these raw images along with wavelet transformed images to train our classifier. Let's prepare X and y now"
   ]
  },
  {
   "cell_type": "code",
   "execution_count": 9,
   "metadata": {},
   "outputs": [],
   "source": [
    "X, y = [], []\n",
    "for celebrity_name, training_files in celebrity_file_names_dict.items():\n",
    "    for training_image in training_files:\n",
    "        img = cv2.imread(training_image)\n",
    "        scalled_raw_img = cv2.resize(img, (32, 32))\n",
    "        img_har = w2d(img,'db1',5)\n",
    "        scalled_img_har = cv2.resize(img_har, (32, 32))\n",
    "        combined_img = np.vstack((scalled_raw_img.reshape(32*32*3,1),scalled_img_har.reshape(32*32,1)))\n",
    "        X.append(combined_img)\n",
    "        y.append(alias_dict[celebrity_name])     "
   ]
  },
  {
   "cell_type": "code",
   "execution_count": 11,
   "metadata": {},
   "outputs": [
    {
     "name": "stdout",
     "output_type": "stream",
     "text": [
      "4096 == 4096    355\n"
     ]
    }
   ],
   "source": [
    "print(f\"{len(X[0])} == {32*32*3 + 32*32}    {len(X)}\")"
   ]
  },
  {
   "cell_type": "markdown",
   "metadata": {},
   "source": [
    "Alias labels are stored in y"
   ]
  },
  {
   "cell_type": "code",
   "execution_count": 12,
   "metadata": {},
   "outputs": [
    {
     "name": "stdout",
     "output_type": "stream",
     "text": [
      "[0, 0, 0, 0, 0, 0, 0, 0, 0, 0, 0, 0, 0, 0, 0, 0, 0, 0, 0, 0, 0, 0, 0, 0, 1, 1, 1, 1, 1, 1, 1, 1, 1, 1, 1, 1, 1, 1, 1, 1, 1, 1, 1, 1, 1, 1, 1, 1, 1, 1, 1, 2, 2, 2, 2, 2, 2, 2, 2, 2, 2, 2, 2, 2, 2, 2, 2, 2, 2, 2, 2, 2, 2, 2, 2, 2, 2, 2, 2, 2, 2, 2, 2, 2, 2, 2, 2, 2, 2, 2, 2, 2, 2, 2, 2, 2, 2, 2, 2, 2, 2, 2, 2, 2, 2, 2, 2, 2, 2, 2, 2, 2, 2, 2, 2, 3, 3, 3, 3, 3, 3, 3, 3, 3, 3, 3, 3, 3, 3, 3, 3, 3, 3, 3, 3, 3, 3, 3, 3, 3, 3, 3, 3, 3, 3, 3, 3, 3, 3, 3, 3, 3, 3, 3, 3, 3, 3, 3, 3, 3, 4, 4, 4, 4, 4, 4, 4, 4, 4, 4, 4, 4, 4, 4, 4, 4, 4, 4, 4, 4, 4, 4, 4, 4, 4, 4, 4, 4, 4, 4, 4, 4, 4, 4, 4, 4, 4, 4, 4, 4, 4, 4, 4, 4, 4, 4, 4, 4, 4, 4, 4, 4, 4, 4, 4, 4, 4, 4, 4, 4, 4, 4, 4, 4, 4, 4, 5, 5, 5, 5, 5, 5, 5, 5, 5, 5, 5, 5, 5, 5, 5, 5, 5, 5, 5, 5, 5, 5, 5, 5, 5, 5, 5, 5, 5, 5, 5, 5, 5, 5, 5, 5, 5, 5, 5, 5, 5, 5, 5, 5, 5, 5, 5, 5, 6, 6, 6, 6, 6, 6, 6, 6, 6, 6, 6, 6, 6, 6, 6, 6, 6, 6, 6, 6, 6, 6, 6, 6, 6, 6, 6, 6, 6, 6, 6, 6, 6, 6, 6, 6, 6, 6, 6, 6, 6, 6, 6, 6, 6, 6, 6, 6, 6, 6, 6, 6, 6, 6, 6, 6, 6, 6, 6, 6, 6, 6, 6, 6, 6, 6, 6, 6, 6, 6, 6, 6, 6, 6, 6, 6, 6, 6, 6, 6, 6]\n",
      "355\n"
     ]
    }
   ],
   "source": [
    "print(f\"{y}\\n{len(y)}\")"
   ]
  },
  {
   "cell_type": "code",
   "execution_count": 13,
   "metadata": {},
   "outputs": [
    {
     "data": {
      "text/plain": [
       "(355, 4096)"
      ]
     },
     "execution_count": 13,
     "metadata": {},
     "output_type": "execute_result"
    }
   ],
   "source": [
    "X = np.array(X).reshape(len(X),4096).astype(float)\n",
    "X.shape"
   ]
  },
  {
   "cell_type": "code",
   "execution_count": 18,
   "metadata": {
    "scrolled": false
   },
   "outputs": [
    {
     "data": {
      "text/plain": [
       "0.7323943661971831"
      ]
     },
     "execution_count": 18,
     "metadata": {},
     "output_type": "execute_result"
    }
   ],
   "source": [
    "X_train, X_test, y_train, y_test = train_test_split(X, y, test_size=0.2)\n",
    "\n",
    "pipe = Pipeline([('scaler', StandardScaler()), ('svc', SVC(kernel = 'rbf', C = 10))])\n",
    "pipe.fit(X_train, y_train)\n",
    "pipe.score(X_test, y_test)"
   ]
  },
  {
   "cell_type": "code",
   "execution_count": 19,
   "metadata": {
    "scrolled": true
   },
   "outputs": [
    {
     "name": "stdout",
     "output_type": "stream",
     "text": [
      "              precision    recall  f1-score   support\n",
      "\n",
      "           0       0.00      0.00      0.00         7\n",
      "           1       1.00      0.33      0.50         6\n",
      "           2       0.80      0.80      0.80        10\n",
      "           3       0.75      0.86      0.80         7\n",
      "           4       1.00      0.78      0.88        18\n",
      "           5       1.00      0.86      0.92         7\n",
      "           6       0.52      1.00      0.68        16\n",
      "\n",
      "    accuracy                           0.73        71\n",
      "   macro avg       0.72      0.66      0.65        71\n",
      "weighted avg       0.74      0.73      0.70        71\n",
      "\n"
     ]
    },
    {
     "name": "stderr",
     "output_type": "stream",
     "text": [
      "/home/brp/Documents/IdentifyTheCEO/ITC_env/lib/python3.8/site-packages/sklearn/metrics/_classification.py:1318: UndefinedMetricWarning: Precision and F-score are ill-defined and being set to 0.0 in labels with no predicted samples. Use `zero_division` parameter to control this behavior.\n",
      "  _warn_prf(average, modifier, msg_start, len(result))\n",
      "/home/brp/Documents/IdentifyTheCEO/ITC_env/lib/python3.8/site-packages/sklearn/metrics/_classification.py:1318: UndefinedMetricWarning: Precision and F-score are ill-defined and being set to 0.0 in labels with no predicted samples. Use `zero_division` parameter to control this behavior.\n",
      "  _warn_prf(average, modifier, msg_start, len(result))\n",
      "/home/brp/Documents/IdentifyTheCEO/ITC_env/lib/python3.8/site-packages/sklearn/metrics/_classification.py:1318: UndefinedMetricWarning: Precision and F-score are ill-defined and being set to 0.0 in labels with no predicted samples. Use `zero_division` parameter to control this behavior.\n",
      "  _warn_prf(average, modifier, msg_start, len(result))\n"
     ]
    }
   ],
   "source": [
    "print(classification_report(y_test, pipe.predict(X_test)))"
   ]
  },
  {
   "cell_type": "code",
   "execution_count": 20,
   "metadata": {
    "scrolled": false
   },
   "outputs": [],
   "source": [
    "model_params = {\n",
    "    'svm': {\n",
    "        'model': svm.SVC(gamma='auto',probability=True),\n",
    "        'params' : {\n",
    "            'svc__C': [0.01, 0.1, 1, 10, 100, 1000],\n",
    "            'svc__kernel': ['rbf','linear']\n",
    "        }  \n",
    "    },\n",
    "    'random_forest': {\n",
    "        'model': RandomForestClassifier(),\n",
    "        'params' : {\n",
    "            'randomforestclassifier__n_estimators': [100*i for i in range(1,6)]\n",
    "        }\n",
    "    },\n",
    "    'logistic_regression' : {\n",
    "        'model': LogisticRegression(solver='liblinear',multi_class='auto'),\n",
    "        'params': {\n",
    "            'logisticregression__C': [1, 10]\n",
    "        }\n",
    "    }\n",
    "}"
   ]
  },
  {
   "cell_type": "code",
   "execution_count": 21,
   "metadata": {
    "scrolled": true
   },
   "outputs": [
    {
     "data": {
      "text/html": [
       "<div>\n",
       "<style scoped>\n",
       "    .dataframe tbody tr th:only-of-type {\n",
       "        vertical-align: middle;\n",
       "    }\n",
       "\n",
       "    .dataframe tbody tr th {\n",
       "        vertical-align: top;\n",
       "    }\n",
       "\n",
       "    .dataframe thead th {\n",
       "        text-align: right;\n",
       "    }\n",
       "</style>\n",
       "<table border=\"1\" class=\"dataframe\">\n",
       "  <thead>\n",
       "    <tr style=\"text-align: right;\">\n",
       "      <th></th>\n",
       "      <th>model</th>\n",
       "      <th>best_score</th>\n",
       "      <th>best_params</th>\n",
       "    </tr>\n",
       "  </thead>\n",
       "  <tbody>\n",
       "    <tr>\n",
       "      <th>0</th>\n",
       "      <td>svm</td>\n",
       "      <td>0.820363</td>\n",
       "      <td>{'svc__C': 0.01, 'svc__kernel': 'linear'}</td>\n",
       "    </tr>\n",
       "    <tr>\n",
       "      <th>1</th>\n",
       "      <td>random_forest</td>\n",
       "      <td>0.683083</td>\n",
       "      <td>{'randomforestclassifier__n_estimators': 300}</td>\n",
       "    </tr>\n",
       "    <tr>\n",
       "      <th>2</th>\n",
       "      <td>logistic_regression</td>\n",
       "      <td>0.823872</td>\n",
       "      <td>{'logisticregression__C': 10}</td>\n",
       "    </tr>\n",
       "  </tbody>\n",
       "</table>\n",
       "</div>"
      ],
      "text/plain": [
       "                 model  best_score  \\\n",
       "0                  svm    0.820363   \n",
       "1        random_forest    0.683083   \n",
       "2  logistic_regression    0.823872   \n",
       "\n",
       "                                     best_params  \n",
       "0      {'svc__C': 0.01, 'svc__kernel': 'linear'}  \n",
       "1  {'randomforestclassifier__n_estimators': 300}  \n",
       "2                  {'logisticregression__C': 10}  "
      ]
     },
     "execution_count": 21,
     "metadata": {},
     "output_type": "execute_result"
    }
   ],
   "source": [
    "scores = []\n",
    "best_estimators = {}\n",
    "import pandas as pd\n",
    "for algo, mp in model_params.items():\n",
    "    pipe = make_pipeline(StandardScaler(), mp['model'])\n",
    "    clf =  GridSearchCV(pipe, mp['params'], cv=5, return_train_score=False)\n",
    "    clf.fit(X_train, y_train)\n",
    "    scores.append({\n",
    "        'model': algo,\n",
    "        'best_score': clf.best_score_,\n",
    "        'best_params': clf.best_params_\n",
    "    })\n",
    "    best_estimators[algo] = clf.best_estimator_\n",
    "    \n",
    "df = pd.DataFrame(scores,columns=['model','best_score','best_params'])\n",
    "df"
   ]
  },
  {
   "cell_type": "code",
   "execution_count": 22,
   "metadata": {
    "scrolled": true
   },
   "outputs": [
    {
     "data": {
      "text/plain": [
       "{'svm': Pipeline(steps=[('standardscaler', StandardScaler()),\n",
       "                 ('svc',\n",
       "                  SVC(C=0.01, gamma='auto', kernel='linear', probability=True))]),\n",
       " 'random_forest': Pipeline(steps=[('standardscaler', StandardScaler()),\n",
       "                 ('randomforestclassifier',\n",
       "                  RandomForestClassifier(n_estimators=300))]),\n",
       " 'logistic_regression': Pipeline(steps=[('standardscaler', StandardScaler()),\n",
       "                 ('logisticregression',\n",
       "                  LogisticRegression(C=10, solver='liblinear'))])}"
      ]
     },
     "execution_count": 22,
     "metadata": {},
     "output_type": "execute_result"
    }
   ],
   "source": [
    "best_estimators"
   ]
  },
  {
   "cell_type": "markdown",
   "metadata": {},
   "source": [
    "<h4 style='color:red'>Though svm, logistic regression gave almost similar best scores, I am choosing to go with svm because logistic regression has the risk of overfitting and svm is generally used for image classification purposes.</h4>"
   ]
  },
  {
   "cell_type": "code",
   "execution_count": 29,
   "metadata": {},
   "outputs": [
    {
     "data": {
      "text/plain": [
       "0.8169014084507042"
      ]
     },
     "execution_count": 29,
     "metadata": {},
     "output_type": "execute_result"
    }
   ],
   "source": [
    "best_estimators['svm'].score(X_test,y_test)"
   ]
  },
  {
   "cell_type": "code",
   "execution_count": 30,
   "metadata": {},
   "outputs": [],
   "source": [
    "best_clf = best_estimators['svm']"
   ]
  },
  {
   "cell_type": "code",
   "execution_count": 31,
   "metadata": {},
   "outputs": [
    {
     "data": {
      "text/plain": [
       "array([[ 4,  3,  0,  0,  0,  0,  0],\n",
       "       [ 0,  4,  0,  0,  1,  0,  1],\n",
       "       [ 0,  0,  8,  0,  0,  0,  2],\n",
       "       [ 0,  0,  0,  6,  1,  0,  0],\n",
       "       [ 0,  0,  1,  0, 15,  0,  2],\n",
       "       [ 0,  1,  0,  0,  0,  6,  0],\n",
       "       [ 0,  0,  0,  0,  1,  0, 15]])"
      ]
     },
     "execution_count": 31,
     "metadata": {},
     "output_type": "execute_result"
    }
   ],
   "source": [
    "from sklearn.metrics import confusion_matrix\n",
    "cm = confusion_matrix(y_test, best_clf.predict(X_test))\n",
    "cm"
   ]
  },
  {
   "cell_type": "code",
   "execution_count": 32,
   "metadata": {
    "scrolled": false
   },
   "outputs": [
    {
     "data": {
      "text/plain": [
       "Text(69.0, 0.5, 'Truth')"
      ]
     },
     "execution_count": 32,
     "metadata": {},
     "output_type": "execute_result"
    },
    {
     "data": {
      "image/png": "[encoded data removed]",
      "text/plain": [
       "<Figure size 720x504 with 2 Axes>"
      ]
     },
     "metadata": {
      "needs_background": "light"
     },
     "output_type": "display_data"
    }
   ],
   "source": [
    "import seaborn as sn\n",
    "plt.figure(figsize = (10,7))\n",
    "sn.heatmap(cm, annot=True)\n",
    "plt.xlabel('Predicted')\n",
    "plt.ylabel('Truth')"
   ]
  },
  {
   "cell_type": "markdown",
   "metadata": {},
   "source": [
    "### Save the trained model"
   ]
  },
  {
   "cell_type": "code",
   "execution_count": 35,
   "metadata": {
    "scrolled": true
   },
   "outputs": [],
   "source": [
    "import pickle\n",
    "# Save the model as a pickle in a file \n",
    "with open('saved_model', 'wb') as files:\n",
    "    pickle.dump(best_clf, files)"
   ]
  },
  {
   "cell_type": "code",
   "execution_count": 34,
   "metadata": {},
   "outputs": [
    {
     "data": {
      "text/plain": [
       "0.8169014084507042"
      ]
     },
     "execution_count": 34,
     "metadata": {},
     "output_type": "execute_result"
    }
   ],
   "source": [
    "with open('saved_model' , 'rb') as fp:\n",
    "    clf = pickle.load(fp)\n",
    "clf.score(X_test, y_test)"
   ]
  },
  {
   "cell_type": "markdown",
   "metadata": {},
   "source": [
    "### Save class dictionary"
   ]
  },
  {
   "cell_type": "code",
   "execution_count": 36,
   "metadata": {},
   "outputs": [],
   "source": [
    "import json\n",
    "with open(\"alias_dictionary.json\",\"w\") as f:\n",
    "    f.write(json.dumps(alias_dict))"
   ]
  }
 ],
 "metadata": {
  "kernelspec": {
   "display_name": "Python 3",
   "language": "python",
   "name": "python3"
  },
  "language_info": {
   "codemirror_mode": {
    "name": "ipython",
    "version": 3
   },
   "file_extension": ".py",
   "mimetype": "text/x-python",
   "name": "python",
   "nbconvert_exporter": "python",
   "pygments_lexer": "ipython3",
   "version": "3.8.10"
  }
 },
 "nbformat": 4,
 "nbformat_minor": 2
}
