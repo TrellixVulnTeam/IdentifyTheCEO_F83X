{
 "cells": [
  {
   "cell_type": "code",
   "execution_count": 1,
   "metadata": {},
   "outputs": [],
   "source": [
    "%matplotlib inline\n",
    "import numpy as np\n",
    "import cv2,pywt,os,pickle\n",
    "from matplotlib import pyplot as plt\n",
    "from sklearn.svm import SVC\n",
    "from sklearn.preprocessing import StandardScaler\n",
    "from sklearn.model_selection import train_test_split\n",
    "from sklearn.pipeline import Pipeline, make_pipeline\n",
    "from sklearn.metrics import classification_report\n",
    "from sklearn import svm\n",
    "from sklearn.ensemble import RandomForestClassifier\n",
    "from sklearn.linear_model import LogisticRegression\n",
    "from sklearn.model_selection import GridSearchCV"
   ]
  },
  {
   "cell_type": "markdown",
   "metadata": {},
   "source": [
    "### Wavelet transform"
   ]
  },
  {
   "cell_type": "code",
   "execution_count": 2,
   "metadata": {},
   "outputs": [],
   "source": [
    "import numpy as np\n",
    "import pywt\n",
    "import cv2    \n",
    "\n",
    "def w2d(img, mode='haar', level=1):\n",
    "    imArray = img\n",
    "    #Datatype conversions\n",
    "    #convert to grayscale\n",
    "    imArray = cv2.cvtColor( imArray,cv2.COLOR_RGB2GRAY )\n",
    "    #convert to float\n",
    "    imArray =  np.float32(imArray)   \n",
    "    imArray /= 255;\n",
    "    # compute coefficients \n",
    "    coeffs=pywt.wavedec2(imArray, mode, level=level)\n",
    "\n",
    "    #Process Coefficients\n",
    "    coeffs_H=list(coeffs)  \n",
    "    coeffs_H[0] *= 0;  \n",
    "\n",
    "    # reconstruction\n",
    "    imArray_H=pywt.waverec2(coeffs_H, mode);\n",
    "    imArray_H *= 255;\n",
    "    imArray_H =  np.uint8(imArray_H)\n",
    "\n",
    "    return imArray_H"
   ]
  },
  {
   "cell_type": "code",
   "execution_count": 3,
   "metadata": {},
   "outputs": [
    {
     "data": {
      "text/plain": [
       "['./dataset/Tim Cook',\n",
       " './dataset/Satya Nadella',\n",
       " './dataset/Elon Musk',\n",
       " './dataset/Sundar Pichai',\n",
       " './dataset/Susan Wojcicki',\n",
       " './dataset/Safra Catz',\n",
       " './dataset/Mark Zuckerberg']"
      ]
     },
     "execution_count": 3,
     "metadata": {},
     "output_type": "execute_result"
    }
   ],
   "source": [
    "path_to_cr_data = \"./dataset/\"\n",
    "cr_img_dirs = []\n",
    "for entry in os.scandir(path_to_cr_data):\n",
    "    if entry.is_dir():\n",
    "        cr_img_dirs.append(entry.path)\n",
    "cr_img_dirs"
   ]
  },
  {
   "cell_type": "code",
   "execution_count": 4,
   "metadata": {},
   "outputs": [
    {
     "data": {
      "text/plain": [
       "{'Tim Cook': ['./dataset/Tim Cook/Tim Cook5.png',\n",
       "  './dataset/Tim Cook/Tim Cook24.png',\n",
       "  './dataset/Tim Cook/Tim Cook15.png',\n",
       "  './dataset/Tim Cook/Tim Cook23.png',\n",
       "  './dataset/Tim Cook/Tim Cook13.png',\n",
       "  './dataset/Tim Cook/Tim Cook7.png',\n",
       "  './dataset/Tim Cook/Tim Cook14.png',\n",
       "  './dataset/Tim Cook/Tim Cook16.png',\n",
       "  './dataset/Tim Cook/Tim Cook17.png',\n",
       "  './dataset/Tim Cook/Tim Cook26.png',\n",
       "  './dataset/Tim Cook/Tim Cook4.png',\n",
       "  './dataset/Tim Cook/Tim Cook18.png',\n",
       "  './dataset/Tim Cook/Tim Cook19.png',\n",
       "  './dataset/Tim Cook/Tim Cook20.png',\n",
       "  './dataset/Tim Cook/Tim Cook2.png',\n",
       "  './dataset/Tim Cook/Tim Cook10.png',\n",
       "  './dataset/Tim Cook/Tim Cook28.png',\n",
       "  './dataset/Tim Cook/Tim Cook3.png',\n",
       "  './dataset/Tim Cook/Tim Cook11.png',\n",
       "  './dataset/Tim Cook/Tim Cook25.png',\n",
       "  './dataset/Tim Cook/Tim Cook22.png',\n",
       "  './dataset/Tim Cook/Tim Cook8.png',\n",
       "  './dataset/Tim Cook/Tim Cook6.png',\n",
       "  './dataset/Tim Cook/Tim Cook9.png',\n",
       "  './dataset/Tim Cook/Tim Cook1.png'],\n",
       " 'Satya Nadella': ['./dataset/Satya Nadella/Satya Nadella9.png',\n",
       "  './dataset/Satya Nadella/Satya Nadella6.png',\n",
       "  './dataset/Satya Nadella/Satya Nadella31.png',\n",
       "  './dataset/Satya Nadella/Satya Nadella32.png',\n",
       "  './dataset/Satya Nadella/Satya Nadella1.png',\n",
       "  './dataset/Satya Nadella/Satya Nadella2.png',\n",
       "  './dataset/Satya Nadella/Satya Nadella30.png',\n",
       "  './dataset/Satya Nadella/Satya Nadella17.png',\n",
       "  './dataset/Satya Nadella/Satya Nadella3.png',\n",
       "  './dataset/Satya Nadella/Satya Nadella28.png',\n",
       "  './dataset/Satya Nadella/Satya Nadella27.png',\n",
       "  './dataset/Satya Nadella/Satya Nadella20.png',\n",
       "  './dataset/Satya Nadella/Satya Nadella19.png',\n",
       "  './dataset/Satya Nadella/Satya Nadella4.png',\n",
       "  './dataset/Satya Nadella/Satya Nadella10.png',\n",
       "  './dataset/Satya Nadella/Satya Nadella26.png',\n",
       "  './dataset/Satya Nadella/Satya Nadella22.png',\n",
       "  './dataset/Satya Nadella/Satya Nadella5.png',\n",
       "  './dataset/Satya Nadella/Satya Nadella7.png',\n",
       "  './dataset/Satya Nadella/Satya Nadella25.png',\n",
       "  './dataset/Satya Nadella/Satya Nadella15.png',\n",
       "  './dataset/Satya Nadella/Satya Nadella12.png',\n",
       "  './dataset/Satya Nadella/Satya Nadella24.png',\n",
       "  './dataset/Satya Nadella/Satya Nadella21.png',\n",
       "  './dataset/Satya Nadella/Satya Nadella13.png',\n",
       "  './dataset/Satya Nadella/Satya Nadella16.png'],\n",
       " 'Elon Musk': ['./dataset/Elon Musk/Elon Musk29.png',\n",
       "  './dataset/Elon Musk/Elon Musk46.png',\n",
       "  './dataset/Elon Musk/Elon Musk6.png',\n",
       "  './dataset/Elon Musk/Elon Musk26.png',\n",
       "  './dataset/Elon Musk/Elon Musk34.png',\n",
       "  './dataset/Elon Musk/Elon Musk65.png',\n",
       "  './dataset/Elon Musk/Elon Musk62.png',\n",
       "  './dataset/Elon Musk/Elon Musk5.png',\n",
       "  './dataset/Elon Musk/Elon Musk16.png',\n",
       "  './dataset/Elon Musk/Elon Musk52.png',\n",
       "  './dataset/Elon Musk/Elon Musk63.png',\n",
       "  './dataset/Elon Musk/Elon Musk4.png',\n",
       "  './dataset/Elon Musk/Elon Musk37.png',\n",
       "  './dataset/Elon Musk/Elon Musk22.png',\n",
       "  './dataset/Elon Musk/Elon Musk25.png',\n",
       "  './dataset/Elon Musk/Elon Musk64.png',\n",
       "  './dataset/Elon Musk/Elon Musk18.png',\n",
       "  './dataset/Elon Musk/Elon Musk42.png',\n",
       "  './dataset/Elon Musk/Elon Musk45.png',\n",
       "  './dataset/Elon Musk/Elon Musk32.png',\n",
       "  './dataset/Elon Musk/Elon Musk9.png',\n",
       "  './dataset/Elon Musk/Elon Musk13.png',\n",
       "  './dataset/Elon Musk/Elon Musk1.png',\n",
       "  './dataset/Elon Musk/Elon Musk38.png',\n",
       "  './dataset/Elon Musk/Elon Musk47.png',\n",
       "  './dataset/Elon Musk/Elon Musk30.png',\n",
       "  './dataset/Elon Musk/Elon Musk59.png',\n",
       "  './dataset/Elon Musk/Elon Musk14.png',\n",
       "  './dataset/Elon Musk/Elon Musk53.png',\n",
       "  './dataset/Elon Musk/Elon Musk2.png',\n",
       "  './dataset/Elon Musk/Elon Musk20.png',\n",
       "  './dataset/Elon Musk/Elon Musk23.png',\n",
       "  './dataset/Elon Musk/Elon Musk17.png',\n",
       "  './dataset/Elon Musk/Elon Musk28.png',\n",
       "  './dataset/Elon Musk/Elon Musk51.png',\n",
       "  './dataset/Elon Musk/Elon Musk57.png',\n",
       "  './dataset/Elon Musk/Elon Musk60.png',\n",
       "  './dataset/Elon Musk/Elon Musk3.png',\n",
       "  './dataset/Elon Musk/Elon Musk12.png',\n",
       "  './dataset/Elon Musk/Elon Musk54.png',\n",
       "  './dataset/Elon Musk/Elon Musk43.png',\n",
       "  './dataset/Elon Musk/Elon Musk10.png',\n",
       "  './dataset/Elon Musk/Elon Musk27.png',\n",
       "  './dataset/Elon Musk/Elon Musk33.png',\n",
       "  './dataset/Elon Musk/Elon Musk21.png',\n",
       "  './dataset/Elon Musk/Elon Musk36.png',\n",
       "  './dataset/Elon Musk/Elon Musk49.png',\n",
       "  './dataset/Elon Musk/Elon Musk7.png',\n",
       "  './dataset/Elon Musk/Elon Musk8.png',\n",
       "  './dataset/Elon Musk/Elon Musk61.png',\n",
       "  './dataset/Elon Musk/Elon Musk39.png',\n",
       "  './dataset/Elon Musk/Elon Musk31.png',\n",
       "  './dataset/Elon Musk/Elon Musk56.png',\n",
       "  './dataset/Elon Musk/Elon Musk44.png',\n",
       "  './dataset/Elon Musk/Elon Musk11.png',\n",
       "  './dataset/Elon Musk/Elon Musk40.png',\n",
       "  './dataset/Elon Musk/Elon Musk15.png',\n",
       "  './dataset/Elon Musk/Elon Musk19.png',\n",
       "  './dataset/Elon Musk/Elon Musk48.png'],\n",
       " 'Sundar Pichai': ['./dataset/Sundar Pichai/Sundar Pichai12.png',\n",
       "  './dataset/Sundar Pichai/Sundar Pichai41.png',\n",
       "  './dataset/Sundar Pichai/Sundar Pichai10.png',\n",
       "  './dataset/Sundar Pichai/Sundar Pichai28.png',\n",
       "  './dataset/Sundar Pichai/Sundar Pichai47.png',\n",
       "  './dataset/Sundar Pichai/Sundar Pichai49.png',\n",
       "  './dataset/Sundar Pichai/Sundar Pichai22.png',\n",
       "  './dataset/Sundar Pichai/Sundar Pichai13.png',\n",
       "  './dataset/Sundar Pichai/Sundar Pichai21.png',\n",
       "  './dataset/Sundar Pichai/Sundar Pichai45.png',\n",
       "  './dataset/Sundar Pichai/Sundar Pichai5.png',\n",
       "  './dataset/Sundar Pichai/Sundar Pichai7.png',\n",
       "  './dataset/Sundar Pichai/Sundar Pichai43.png',\n",
       "  './dataset/Sundar Pichai/Sundar Pichai35.png',\n",
       "  './dataset/Sundar Pichai/Sundar Pichai6.png',\n",
       "  './dataset/Sundar Pichai/Sundar Pichai23.png',\n",
       "  './dataset/Sundar Pichai/Sundar Pichai38.png',\n",
       "  './dataset/Sundar Pichai/Sundar Pichai31.png',\n",
       "  './dataset/Sundar Pichai/Sundar Pichai19.png',\n",
       "  './dataset/Sundar Pichai/Sundar Pichai3.png',\n",
       "  './dataset/Sundar Pichai/Sundar Pichai17.png',\n",
       "  './dataset/Sundar Pichai/Sundar Pichai33.png',\n",
       "  './dataset/Sundar Pichai/Sundar Pichai29.png',\n",
       "  './dataset/Sundar Pichai/Sundar Pichai16.png',\n",
       "  './dataset/Sundar Pichai/Sundar Pichai39.png',\n",
       "  './dataset/Sundar Pichai/Sundar Pichai25.png',\n",
       "  './dataset/Sundar Pichai/Sundar Pichai51.png',\n",
       "  './dataset/Sundar Pichai/Sundar Pichai36.png',\n",
       "  './dataset/Sundar Pichai/Sundar Pichai26.png',\n",
       "  './dataset/Sundar Pichai/Sundar Pichai20.png',\n",
       "  './dataset/Sundar Pichai/Sundar Pichai4.png',\n",
       "  './dataset/Sundar Pichai/Sundar Pichai11.png',\n",
       "  './dataset/Sundar Pichai/Sundar Pichai42.png',\n",
       "  './dataset/Sundar Pichai/Sundar Pichai34.png',\n",
       "  './dataset/Sundar Pichai/Sundar Pichai50.png',\n",
       "  './dataset/Sundar Pichai/Sundar Pichai44.png',\n",
       "  './dataset/Sundar Pichai/Sundar Pichai8.png',\n",
       "  './dataset/Sundar Pichai/Sundar Pichai27.png',\n",
       "  './dataset/Sundar Pichai/Sundar Pichai40.png',\n",
       "  './dataset/Sundar Pichai/Sundar Pichai18.png',\n",
       "  './dataset/Sundar Pichai/Sundar Pichai30.png',\n",
       "  './dataset/Sundar Pichai/Sundar Pichai9.png',\n",
       "  './dataset/Sundar Pichai/Sundar Pichai48.png',\n",
       "  './dataset/Sundar Pichai/Sundar Pichai14.png',\n",
       "  './dataset/Sundar Pichai/Sundar Pichai15.png'],\n",
       " 'Susan Wojcicki': ['./dataset/Susan Wojcicki/Susan Wojcicki7.png',\n",
       "  './dataset/Susan Wojcicki/Susan Wojcicki21.png',\n",
       "  './dataset/Susan Wojcicki/Susan Wojcicki16.png',\n",
       "  './dataset/Susan Wojcicki/Susan Wojcicki46.png',\n",
       "  './dataset/Susan Wojcicki/Susan Wojcicki38.png',\n",
       "  './dataset/Susan Wojcicki/Susan Wojcicki66.png',\n",
       "  './dataset/Susan Wojcicki/Susan Wojcicki30.png',\n",
       "  './dataset/Susan Wojcicki/Susan Wojcicki36.png',\n",
       "  './dataset/Susan Wojcicki/Susan Wojcicki54.png',\n",
       "  './dataset/Susan Wojcicki/Susan Wojcicki52.png',\n",
       "  './dataset/Susan Wojcicki/Susan Wojcicki68.png',\n",
       "  './dataset/Susan Wojcicki/Susan Wojcicki62.png',\n",
       "  './dataset/Susan Wojcicki/Susan Wojcicki34.png',\n",
       "  './dataset/Susan Wojcicki/Susan Wojcicki29.png',\n",
       "  './dataset/Susan Wojcicki/Susan Wojcicki28.png',\n",
       "  './dataset/Susan Wojcicki/Susan Wojcicki49.png',\n",
       "  './dataset/Susan Wojcicki/Susan Wojcicki67.png',\n",
       "  './dataset/Susan Wojcicki/Susan Wojcicki35.png',\n",
       "  './dataset/Susan Wojcicki/Susan Wojcicki37.png',\n",
       "  './dataset/Susan Wojcicki/Susan Wojcicki39.png',\n",
       "  './dataset/Susan Wojcicki/Susan Wojcicki41.png',\n",
       "  './dataset/Susan Wojcicki/Susan Wojcicki61.png',\n",
       "  './dataset/Susan Wojcicki/Susan Wojcicki12.png',\n",
       "  './dataset/Susan Wojcicki/Susan Wojcicki13.png',\n",
       "  './dataset/Susan Wojcicki/Susan Wojcicki43.png',\n",
       "  './dataset/Susan Wojcicki/Susan Wojcicki1.png',\n",
       "  './dataset/Susan Wojcicki/Susan Wojcicki48.png',\n",
       "  './dataset/Susan Wojcicki/Susan Wojcicki4.png',\n",
       "  './dataset/Susan Wojcicki/Susan Wojcicki69.png',\n",
       "  './dataset/Susan Wojcicki/Susan Wojcicki56.png',\n",
       "  './dataset/Susan Wojcicki/Susan Wojcicki60.png',\n",
       "  './dataset/Susan Wojcicki/Susan Wojcicki74.png',\n",
       "  './dataset/Susan Wojcicki/Susan Wojcicki14.png',\n",
       "  './dataset/Susan Wojcicki/Susan Wojcicki78.png',\n",
       "  './dataset/Susan Wojcicki/Susan Wojcicki57.png',\n",
       "  './dataset/Susan Wojcicki/Susan Wojcicki79.png',\n",
       "  './dataset/Susan Wojcicki/Susan Wojcicki18.png',\n",
       "  './dataset/Susan Wojcicki/Susan Wojcicki10.png',\n",
       "  './dataset/Susan Wojcicki/Susan Wojcicki2.png',\n",
       "  './dataset/Susan Wojcicki/Susan Wojcicki77.png',\n",
       "  './dataset/Susan Wojcicki/Susan Wojcicki33.png',\n",
       "  './dataset/Susan Wojcicki/Susan Wojcicki58.png',\n",
       "  './dataset/Susan Wojcicki/Susan Wojcicki40.png',\n",
       "  './dataset/Susan Wojcicki/Susan Wojcicki24.png',\n",
       "  './dataset/Susan Wojcicki/Susan Wojcicki22.png',\n",
       "  './dataset/Susan Wojcicki/Susan Wojcicki6.png',\n",
       "  './dataset/Susan Wojcicki/Susan Wojcicki47.png',\n",
       "  './dataset/Susan Wojcicki/Susan Wojcicki27.png',\n",
       "  './dataset/Susan Wojcicki/Susan Wojcicki5.png',\n",
       "  './dataset/Susan Wojcicki/Susan Wojcicki50.png',\n",
       "  './dataset/Susan Wojcicki/Susan Wojcicki20.png',\n",
       "  './dataset/Susan Wojcicki/Susan Wojcicki45.png',\n",
       "  './dataset/Susan Wojcicki/Susan Wojcicki76.png',\n",
       "  './dataset/Susan Wojcicki/Susan Wojcicki3.png',\n",
       "  './dataset/Susan Wojcicki/Susan Wojcicki65.png',\n",
       "  './dataset/Susan Wojcicki/Susan Wojcicki17.png',\n",
       "  './dataset/Susan Wojcicki/Susan Wojcicki64.png',\n",
       "  './dataset/Susan Wojcicki/Susan Wojcicki9.png',\n",
       "  './dataset/Susan Wojcicki/Susan Wojcicki26.png',\n",
       "  './dataset/Susan Wojcicki/Susan Wojcicki55.png',\n",
       "  './dataset/Susan Wojcicki/Susan Wojcicki63.png',\n",
       "  './dataset/Susan Wojcicki/Susan Wojcicki23.png',\n",
       "  './dataset/Susan Wojcicki/Susan Wojcicki44.png',\n",
       "  './dataset/Susan Wojcicki/Susan Wojcicki53.png',\n",
       "  './dataset/Susan Wojcicki/Susan Wojcicki75.png',\n",
       "  './dataset/Susan Wojcicki/Susan Wojcicki8.png',\n",
       "  './dataset/Susan Wojcicki/Susan Wojcicki73.png',\n",
       "  './dataset/Susan Wojcicki/Susan Wojcicki42.png',\n",
       "  './dataset/Susan Wojcicki/Susan Wojcicki19.png',\n",
       "  './dataset/Susan Wojcicki/Susan Wojcicki11.png',\n",
       "  './dataset/Susan Wojcicki/Susan Wojcicki51.png',\n",
       "  './dataset/Susan Wojcicki/Susan Wojcicki59.png',\n",
       "  './dataset/Susan Wojcicki/Susan Wojcicki70.png'],\n",
       " 'Safra Catz': ['./dataset/Safra Catz/Safra Catz36.png',\n",
       "  './dataset/Safra Catz/Safra Catz2.png',\n",
       "  './dataset/Safra Catz/Safra Catz45.png',\n",
       "  './dataset/Safra Catz/Safra Catz5.png',\n",
       "  './dataset/Safra Catz/Safra Catz55.png',\n",
       "  './dataset/Safra Catz/Safra Catz9.png',\n",
       "  './dataset/Safra Catz/Safra Catz54.png',\n",
       "  './dataset/Safra Catz/Safra Catz50.png',\n",
       "  './dataset/Safra Catz/Safra Catz30.png',\n",
       "  './dataset/Safra Catz/Safra Catz52.png',\n",
       "  './dataset/Safra Catz/Safra Catz6.png',\n",
       "  './dataset/Safra Catz/Safra Catz34.png',\n",
       "  './dataset/Safra Catz/Safra Catz23.png',\n",
       "  './dataset/Safra Catz/Safra Catz29.png',\n",
       "  './dataset/Safra Catz/Safra Catz24.png',\n",
       "  './dataset/Safra Catz/Safra Catz21.png',\n",
       "  './dataset/Safra Catz/Safra Catz48.png',\n",
       "  './dataset/Safra Catz/Safra Catz20.png',\n",
       "  './dataset/Safra Catz/Safra Catz12.png',\n",
       "  './dataset/Safra Catz/Safra Catz19.png',\n",
       "  './dataset/Safra Catz/Safra Catz56.png',\n",
       "  './dataset/Safra Catz/Safra Catz53.png',\n",
       "  './dataset/Safra Catz/Safra Catz38.png',\n",
       "  './dataset/Safra Catz/Safra Catz14.png',\n",
       "  './dataset/Safra Catz/Safra Catz18.png',\n",
       "  './dataset/Safra Catz/Safra Catz26.png',\n",
       "  './dataset/Safra Catz/Safra Catz1.png',\n",
       "  './dataset/Safra Catz/Safra Catz27.png',\n",
       "  './dataset/Safra Catz/Safra Catz17.png',\n",
       "  './dataset/Safra Catz/Safra Catz37.png',\n",
       "  './dataset/Safra Catz/Safra Catz31.png',\n",
       "  './dataset/Safra Catz/Safra Catz61.png',\n",
       "  './dataset/Safra Catz/Safra Catz44.png',\n",
       "  './dataset/Safra Catz/Safra Catz49.png',\n",
       "  './dataset/Safra Catz/Safra Catz22.png',\n",
       "  './dataset/Safra Catz/Safra Catz46.png',\n",
       "  './dataset/Safra Catz/Safra Catz51.png',\n",
       "  './dataset/Safra Catz/Safra Catz60.png',\n",
       "  './dataset/Safra Catz/Safra Catz15.png',\n",
       "  './dataset/Safra Catz/Safra Catz39.png',\n",
       "  './dataset/Safra Catz/Safra Catz11.png',\n",
       "  './dataset/Safra Catz/Safra Catz57.png',\n",
       "  './dataset/Safra Catz/Safra Catz13.png',\n",
       "  './dataset/Safra Catz/Safra Catz16.png',\n",
       "  './dataset/Safra Catz/Safra Catz10.png',\n",
       "  './dataset/Safra Catz/Safra Catz58.png',\n",
       "  './dataset/Safra Catz/Safra Catz33.png',\n",
       "  './dataset/Safra Catz/Safra Catz28.png'],\n",
       " 'Mark Zuckerberg': ['./dataset/Mark Zuckerberg/Mark Zuckerberg22.png',\n",
       "  './dataset/Mark Zuckerberg/Mark Zuckerberg64.png',\n",
       "  './dataset/Mark Zuckerberg/Mark Zuckerberg46.png',\n",
       "  './dataset/Mark Zuckerberg/Mark Zuckerberg70.png',\n",
       "  './dataset/Mark Zuckerberg/Mark Zuckerberg44.png',\n",
       "  './dataset/Mark Zuckerberg/Mark Zuckerberg61.png',\n",
       "  './dataset/Mark Zuckerberg/Mark Zuckerberg90.png',\n",
       "  './dataset/Mark Zuckerberg/Mark Zuckerberg85.png',\n",
       "  './dataset/Mark Zuckerberg/Mark Zuckerberg74.png',\n",
       "  './dataset/Mark Zuckerberg/Mark Zuckerberg3.png',\n",
       "  './dataset/Mark Zuckerberg/Mark Zuckerberg58.png',\n",
       "  './dataset/Mark Zuckerberg/Mark Zuckerberg47.png',\n",
       "  './dataset/Mark Zuckerberg/Mark Zuckerberg12.png',\n",
       "  './dataset/Mark Zuckerberg/Mark Zuckerberg84.png',\n",
       "  './dataset/Mark Zuckerberg/Mark Zuckerberg28.png',\n",
       "  './dataset/Mark Zuckerberg/Mark Zuckerberg86.png',\n",
       "  './dataset/Mark Zuckerberg/Mark Zuckerberg88.png',\n",
       "  './dataset/Mark Zuckerberg/Mark Zuckerberg53.png',\n",
       "  './dataset/Mark Zuckerberg/Mark Zuckerberg13.png',\n",
       "  './dataset/Mark Zuckerberg/Mark Zuckerberg17.png',\n",
       "  './dataset/Mark Zuckerberg/Mark Zuckerberg20.png',\n",
       "  './dataset/Mark Zuckerberg/Mark Zuckerberg41.png',\n",
       "  './dataset/Mark Zuckerberg/Mark Zuckerberg39.png',\n",
       "  './dataset/Mark Zuckerberg/Mark Zuckerberg34.png',\n",
       "  './dataset/Mark Zuckerberg/Mark Zuckerberg66.png',\n",
       "  './dataset/Mark Zuckerberg/Mark Zuckerberg79.png',\n",
       "  './dataset/Mark Zuckerberg/Mark Zuckerberg7.png',\n",
       "  './dataset/Mark Zuckerberg/Mark Zuckerberg51.png',\n",
       "  './dataset/Mark Zuckerberg/Mark Zuckerberg82.png',\n",
       "  './dataset/Mark Zuckerberg/Mark Zuckerberg91.png',\n",
       "  './dataset/Mark Zuckerberg/Mark Zuckerberg11.png',\n",
       "  './dataset/Mark Zuckerberg/Mark Zuckerberg59.png',\n",
       "  './dataset/Mark Zuckerberg/Mark Zuckerberg69.png',\n",
       "  './dataset/Mark Zuckerberg/Mark Zuckerberg38.png',\n",
       "  './dataset/Mark Zuckerberg/Mark Zuckerberg4.png',\n",
       "  './dataset/Mark Zuckerberg/Mark Zuckerberg25.png',\n",
       "  './dataset/Mark Zuckerberg/Mark Zuckerberg65.png',\n",
       "  './dataset/Mark Zuckerberg/Mark Zuckerberg57.png',\n",
       "  './dataset/Mark Zuckerberg/Mark Zuckerberg67.png',\n",
       "  './dataset/Mark Zuckerberg/Mark Zuckerberg42.png',\n",
       "  './dataset/Mark Zuckerberg/Mark Zuckerberg80.png',\n",
       "  './dataset/Mark Zuckerberg/Mark Zuckerberg9.png',\n",
       "  './dataset/Mark Zuckerberg/Mark Zuckerberg37.png',\n",
       "  './dataset/Mark Zuckerberg/Mark Zuckerberg63.png',\n",
       "  './dataset/Mark Zuckerberg/Mark Zuckerberg5.png',\n",
       "  './dataset/Mark Zuckerberg/Mark Zuckerberg48.png',\n",
       "  './dataset/Mark Zuckerberg/Mark Zuckerberg2.png',\n",
       "  './dataset/Mark Zuckerberg/Mark Zuckerberg56.png',\n",
       "  './dataset/Mark Zuckerberg/Mark Zuckerberg10.png',\n",
       "  './dataset/Mark Zuckerberg/Mark Zuckerberg23.png',\n",
       "  './dataset/Mark Zuckerberg/Mark Zuckerberg36.png',\n",
       "  './dataset/Mark Zuckerberg/Mark Zuckerberg89.png',\n",
       "  './dataset/Mark Zuckerberg/Mark Zuckerberg8.png',\n",
       "  './dataset/Mark Zuckerberg/Mark Zuckerberg43.png',\n",
       "  './dataset/Mark Zuckerberg/Mark Zuckerberg30.png',\n",
       "  './dataset/Mark Zuckerberg/Mark Zuckerberg71.png',\n",
       "  './dataset/Mark Zuckerberg/Mark Zuckerberg87.png',\n",
       "  './dataset/Mark Zuckerberg/Mark Zuckerberg33.png',\n",
       "  './dataset/Mark Zuckerberg/Mark Zuckerberg77.png',\n",
       "  './dataset/Mark Zuckerberg/Mark Zuckerberg50.png',\n",
       "  './dataset/Mark Zuckerberg/Mark Zuckerberg32.png',\n",
       "  './dataset/Mark Zuckerberg/Mark Zuckerberg27.png',\n",
       "  './dataset/Mark Zuckerberg/Mark Zuckerberg54.png',\n",
       "  './dataset/Mark Zuckerberg/Mark Zuckerberg49.png',\n",
       "  './dataset/Mark Zuckerberg/Mark Zuckerberg75.png',\n",
       "  './dataset/Mark Zuckerberg/Mark Zuckerberg55.png',\n",
       "  './dataset/Mark Zuckerberg/Mark Zuckerberg73.png',\n",
       "  './dataset/Mark Zuckerberg/Mark Zuckerberg21.png',\n",
       "  './dataset/Mark Zuckerberg/Mark Zuckerberg45.png',\n",
       "  './dataset/Mark Zuckerberg/Mark Zuckerberg52.png',\n",
       "  './dataset/Mark Zuckerberg/Mark Zuckerberg40.png',\n",
       "  './dataset/Mark Zuckerberg/Mark Zuckerberg35.png',\n",
       "  './dataset/Mark Zuckerberg/Mark Zuckerberg19.png',\n",
       "  './dataset/Mark Zuckerberg/Mark Zuckerberg29.png',\n",
       "  './dataset/Mark Zuckerberg/Mark Zuckerberg15.png',\n",
       "  './dataset/Mark Zuckerberg/Mark Zuckerberg62.png',\n",
       "  './dataset/Mark Zuckerberg/Mark Zuckerberg31.png',\n",
       "  './dataset/Mark Zuckerberg/Mark Zuckerberg1.png',\n",
       "  './dataset/Mark Zuckerberg/Mark Zuckerberg60.png',\n",
       "  './dataset/Mark Zuckerberg/Mark Zuckerberg72.png',\n",
       "  './dataset/Mark Zuckerberg/Mark Zuckerberg81.png',\n",
       "  './dataset/Mark Zuckerberg/Mark Zuckerberg6.png',\n",
       "  './dataset/Mark Zuckerberg/Mark Zuckerberg76.png',\n",
       "  './dataset/Mark Zuckerberg/Mark Zuckerberg26.png',\n",
       "  './dataset/Mark Zuckerberg/Mark Zuckerberg18.png']}"
      ]
     },
     "execution_count": 4,
     "metadata": {},
     "output_type": "execute_result"
    }
   ],
   "source": [
    "celebrity_file_names_dict = {}\n",
    "alias_dict = {}\n",
    "count = 0\n",
    "for img_dir in cr_img_dirs:\n",
    "    celebrity_name = img_dir.split('/')[-1]\n",
    "    file_list = []\n",
    "    for entry in os.scandir(img_dir):\n",
    "        file_list.append(entry.path)\n",
    "    alias_dict[celebrity_name] = count\n",
    "    count = count + 1\n",
    "    celebrity_file_names_dict[celebrity_name] = file_list\n",
    "celebrity_file_names_dict"
   ]
  },
  {
   "cell_type": "code",
   "execution_count": 5,
   "metadata": {
    "scrolled": true
   },
   "outputs": [
    {
     "data": {
      "text/plain": [
       "{'Tim Cook': 0,\n",
       " 'Satya Nadella': 1,\n",
       " 'Elon Musk': 2,\n",
       " 'Sundar Pichai': 3,\n",
       " 'Susan Wojcicki': 4,\n",
       " 'Safra Catz': 5,\n",
       " 'Mark Zuckerberg': 6}"
      ]
     },
     "execution_count": 5,
     "metadata": {},
     "output_type": "execute_result"
    }
   ],
   "source": [
    "alias_dict"
   ]
  },
  {
   "cell_type": "markdown",
   "metadata": {},
   "source": [
    "### Images in cropped folder can be used for model training. We will use these raw images along with wavelet transformed images to train our classifier. Let's prepare X and y now"
   ]
  },
  {
   "cell_type": "code",
   "execution_count": 6,
   "metadata": {},
   "outputs": [],
   "source": [
    "X, y = [], []\n",
    "for celebrity_name, training_files in celebrity_file_names_dict.items():\n",
    "    for training_image in training_files:\n",
    "        img = cv2.imread(training_image)\n",
    "        scalled_raw_img = cv2.resize(img, (32, 32))\n",
    "        img_har = w2d(img,'db1',5)\n",
    "        scalled_img_har = cv2.resize(img_har, (32, 32))\n",
    "        combined_img = np.vstack((scalled_raw_img.reshape(32*32*3,1),scalled_img_har.reshape(32*32,1)))\n",
    "        X.append(combined_img)\n",
    "        y.append(alias_dict[celebrity_name])     "
   ]
  },
  {
   "cell_type": "code",
   "execution_count": 7,
   "metadata": {},
   "outputs": [
    {
     "name": "stdout",
     "output_type": "stream",
     "text": [
      "4096 == 4096    361\n"
     ]
    }
   ],
   "source": [
    "print(f\"{len(X[0])} == {32*32*3 + 32*32}    {len(X)}\")"
   ]
  },
  {
   "cell_type": "markdown",
   "metadata": {},
   "source": [
    "Alias labels are stored in y"
   ]
  },
  {
   "cell_type": "code",
   "execution_count": 8,
   "metadata": {},
   "outputs": [
    {
     "name": "stdout",
     "output_type": "stream",
     "text": [
      "[0, 0, 0, 0, 0, 0, 0, 0, 0, 0, 0, 0, 0, 0, 0, 0, 0, 0, 0, 0, 0, 0, 0, 0, 0, 1, 1, 1, 1, 1, 1, 1, 1, 1, 1, 1, 1, 1, 1, 1, 1, 1, 1, 1, 1, 1, 1, 1, 1, 1, 1, 2, 2, 2, 2, 2, 2, 2, 2, 2, 2, 2, 2, 2, 2, 2, 2, 2, 2, 2, 2, 2, 2, 2, 2, 2, 2, 2, 2, 2, 2, 2, 2, 2, 2, 2, 2, 2, 2, 2, 2, 2, 2, 2, 2, 2, 2, 2, 2, 2, 2, 2, 2, 2, 2, 2, 2, 2, 2, 2, 3, 3, 3, 3, 3, 3, 3, 3, 3, 3, 3, 3, 3, 3, 3, 3, 3, 3, 3, 3, 3, 3, 3, 3, 3, 3, 3, 3, 3, 3, 3, 3, 3, 3, 3, 3, 3, 3, 3, 3, 3, 3, 3, 3, 3, 4, 4, 4, 4, 4, 4, 4, 4, 4, 4, 4, 4, 4, 4, 4, 4, 4, 4, 4, 4, 4, 4, 4, 4, 4, 4, 4, 4, 4, 4, 4, 4, 4, 4, 4, 4, 4, 4, 4, 4, 4, 4, 4, 4, 4, 4, 4, 4, 4, 4, 4, 4, 4, 4, 4, 4, 4, 4, 4, 4, 4, 4, 4, 4, 4, 4, 4, 4, 4, 4, 4, 4, 4, 5, 5, 5, 5, 5, 5, 5, 5, 5, 5, 5, 5, 5, 5, 5, 5, 5, 5, 5, 5, 5, 5, 5, 5, 5, 5, 5, 5, 5, 5, 5, 5, 5, 5, 5, 5, 5, 5, 5, 5, 5, 5, 5, 5, 5, 5, 5, 5, 6, 6, 6, 6, 6, 6, 6, 6, 6, 6, 6, 6, 6, 6, 6, 6, 6, 6, 6, 6, 6, 6, 6, 6, 6, 6, 6, 6, 6, 6, 6, 6, 6, 6, 6, 6, 6, 6, 6, 6, 6, 6, 6, 6, 6, 6, 6, 6, 6, 6, 6, 6, 6, 6, 6, 6, 6, 6, 6, 6, 6, 6, 6, 6, 6, 6, 6, 6, 6, 6, 6, 6, 6, 6, 6, 6, 6, 6, 6, 6, 6, 6, 6, 6, 6]\n",
      "361\n"
     ]
    }
   ],
   "source": [
    "print(f\"{y}\\n{len(y)}\")"
   ]
  },
  {
   "cell_type": "code",
   "execution_count": 9,
   "metadata": {},
   "outputs": [
    {
     "data": {
      "text/plain": [
       "(361, 4096)"
      ]
     },
     "execution_count": 9,
     "metadata": {},
     "output_type": "execute_result"
    }
   ],
   "source": [
    "X = np.array(X).reshape(len(X),4096).astype(float)\n",
    "X.shape"
   ]
  },
  {
   "cell_type": "code",
   "execution_count": 14,
   "metadata": {
    "scrolled": false
   },
   "outputs": [
    {
     "data": {
      "text/plain": [
       "0.726027397260274"
      ]
     },
     "execution_count": 14,
     "metadata": {},
     "output_type": "execute_result"
    }
   ],
   "source": [
    "X_train, X_test, y_train, y_test = train_test_split(X, y, test_size=0.2)\n",
    "\n",
    "pipe = Pipeline([('scaler', StandardScaler()), ('svc', SVC(kernel = 'rbf', C = 10))])\n",
    "pipe.fit(X_train, y_train)\n",
    "pipe.score(X_test, y_test)"
   ]
  },
  {
   "cell_type": "code",
   "execution_count": 15,
   "metadata": {
    "scrolled": true
   },
   "outputs": [
    {
     "name": "stdout",
     "output_type": "stream",
     "text": [
      "              precision    recall  f1-score   support\n",
      "\n",
      "           0       0.00      0.00      0.00         4\n",
      "           1       1.00      0.33      0.50         6\n",
      "           2       0.75      0.60      0.67        10\n",
      "           3       0.69      0.90      0.78        10\n",
      "           4       0.79      0.79      0.79        14\n",
      "           5       0.83      0.83      0.83        12\n",
      "           6       0.62      0.88      0.73        17\n",
      "\n",
      "    accuracy                           0.73        73\n",
      "   macro avg       0.67      0.62      0.61        73\n",
      "weighted avg       0.71      0.73      0.70        73\n",
      "\n"
     ]
    },
    {
     "name": "stderr",
     "output_type": "stream",
     "text": [
      "/home/brp/Documents/IdentifyTheCEO/ITC_env/lib/python3.8/site-packages/sklearn/metrics/_classification.py:1318: UndefinedMetricWarning: Precision and F-score are ill-defined and being set to 0.0 in labels with no predicted samples. Use `zero_division` parameter to control this behavior.\n",
      "  _warn_prf(average, modifier, msg_start, len(result))\n",
      "/home/brp/Documents/IdentifyTheCEO/ITC_env/lib/python3.8/site-packages/sklearn/metrics/_classification.py:1318: UndefinedMetricWarning: Precision and F-score are ill-defined and being set to 0.0 in labels with no predicted samples. Use `zero_division` parameter to control this behavior.\n",
      "  _warn_prf(average, modifier, msg_start, len(result))\n",
      "/home/brp/Documents/IdentifyTheCEO/ITC_env/lib/python3.8/site-packages/sklearn/metrics/_classification.py:1318: UndefinedMetricWarning: Precision and F-score are ill-defined and being set to 0.0 in labels with no predicted samples. Use `zero_division` parameter to control this behavior.\n",
      "  _warn_prf(average, modifier, msg_start, len(result))\n"
     ]
    }
   ],
   "source": [
    "print(classification_report(y_test, pipe.predict(X_test)))"
   ]
  },
  {
   "cell_type": "code",
   "execution_count": 17,
   "metadata": {
    "scrolled": false
   },
   "outputs": [],
   "source": [
    "model_params = {\n",
    "    'svm': {\n",
    "        'model': svm.SVC(gamma='auto',probability=True),\n",
    "        'params' : {\n",
    "            'svc__C': [0.01, 0.1, 1, 10, 100, 1000],\n",
    "            'svc__kernel': ['rbf','linear']\n",
    "        }  \n",
    "    },\n",
    "    'random_forest': {\n",
    "        'model': RandomForestClassifier(),\n",
    "        'params' : {\n",
    "            'randomforestclassifier__n_estimators': [100*i for i in range(1,6)]\n",
    "        }\n",
    "    },\n",
    "    'logistic_regression' : {\n",
    "        'model': LogisticRegression(solver='liblinear',multi_class='auto'),\n",
    "        'params': {\n",
    "            'logisticregression__C': [1, 10]\n",
    "        }\n",
    "    }\n",
    "}"
   ]
  },
  {
   "cell_type": "code",
   "execution_count": 18,
   "metadata": {
    "scrolled": true
   },
   "outputs": [
    {
     "data": {
      "text/html": [
       "<div>\n",
       "<style scoped>\n",
       "    .dataframe tbody tr th:only-of-type {\n",
       "        vertical-align: middle;\n",
       "    }\n",
       "\n",
       "    .dataframe tbody tr th {\n",
       "        vertical-align: top;\n",
       "    }\n",
       "\n",
       "    .dataframe thead th {\n",
       "        text-align: right;\n",
       "    }\n",
       "</style>\n",
       "<table border=\"1\" class=\"dataframe\">\n",
       "  <thead>\n",
       "    <tr style=\"text-align: right;\">\n",
       "      <th></th>\n",
       "      <th>model</th>\n",
       "      <th>best_score</th>\n",
       "      <th>best_params</th>\n",
       "    </tr>\n",
       "  </thead>\n",
       "  <tbody>\n",
       "    <tr>\n",
       "      <th>0</th>\n",
       "      <td>svm</td>\n",
       "      <td>0.833212</td>\n",
       "      <td>{'svc__C': 0.01, 'svc__kernel': 'linear'}</td>\n",
       "    </tr>\n",
       "    <tr>\n",
       "      <th>1</th>\n",
       "      <td>random_forest</td>\n",
       "      <td>0.728978</td>\n",
       "      <td>{'randomforestclassifier__n_estimators': 300}</td>\n",
       "    </tr>\n",
       "    <tr>\n",
       "      <th>2</th>\n",
       "      <td>logistic_regression</td>\n",
       "      <td>0.819601</td>\n",
       "      <td>{'logisticregression__C': 10}</td>\n",
       "    </tr>\n",
       "  </tbody>\n",
       "</table>\n",
       "</div>"
      ],
      "text/plain": [
       "                 model  best_score  \\\n",
       "0                  svm    0.833212   \n",
       "1        random_forest    0.728978   \n",
       "2  logistic_regression    0.819601   \n",
       "\n",
       "                                     best_params  \n",
       "0      {'svc__C': 0.01, 'svc__kernel': 'linear'}  \n",
       "1  {'randomforestclassifier__n_estimators': 300}  \n",
       "2                  {'logisticregression__C': 10}  "
      ]
     },
     "execution_count": 18,
     "metadata": {},
     "output_type": "execute_result"
    }
   ],
   "source": [
    "scores = []\n",
    "best_estimators = {}\n",
    "import pandas as pd\n",
    "for algo, mp in model_params.items():\n",
    "    pipe = make_pipeline(StandardScaler(), mp['model'])\n",
    "    clf =  GridSearchCV(pipe, mp['params'], cv=5, return_train_score=False)\n",
    "    clf.fit(X_train, y_train)\n",
    "    scores.append({\n",
    "        'model': algo,\n",
    "        'best_score': clf.best_score_,\n",
    "        'best_params': clf.best_params_\n",
    "    })\n",
    "    best_estimators[algo] = clf.best_estimator_\n",
    "    \n",
    "df = pd.DataFrame(scores,columns=['model','best_score','best_params'])\n",
    "df"
   ]
  },
  {
   "cell_type": "code",
   "execution_count": 19,
   "metadata": {
    "scrolled": true
   },
   "outputs": [
    {
     "data": {
      "text/plain": [
       "{'svm': Pipeline(steps=[('standardscaler', StandardScaler()),\n",
       "                 ('svc',\n",
       "                  SVC(C=0.01, gamma='auto', kernel='linear', probability=True))]),\n",
       " 'random_forest': Pipeline(steps=[('standardscaler', StandardScaler()),\n",
       "                 ('randomforestclassifier',\n",
       "                  RandomForestClassifier(n_estimators=300))]),\n",
       " 'logistic_regression': Pipeline(steps=[('standardscaler', StandardScaler()),\n",
       "                 ('logisticregression',\n",
       "                  LogisticRegression(C=10, solver='liblinear'))])}"
      ]
     },
     "execution_count": 19,
     "metadata": {},
     "output_type": "execute_result"
    }
   ],
   "source": [
    "best_estimators"
   ]
  },
  {
   "cell_type": "markdown",
   "metadata": {},
   "source": [
    "<h4 style='color:red'>Though svm, logistic regression gave almost similar best scores, I am choosing to go with svm because logistic regression has the risk of overfitting and svm is generally used for image classification purposes.</h4>"
   ]
  },
  {
   "cell_type": "code",
   "execution_count": 20,
   "metadata": {},
   "outputs": [
    {
     "data": {
      "text/plain": [
       "0.8493150684931506"
      ]
     },
     "execution_count": 20,
     "metadata": {},
     "output_type": "execute_result"
    }
   ],
   "source": [
    "best_estimators['svm'].score(X_test,y_test)"
   ]
  },
  {
   "cell_type": "code",
   "execution_count": 21,
   "metadata": {},
   "outputs": [],
   "source": [
    "best_clf = best_estimators['svm']"
   ]
  },
  {
   "cell_type": "code",
   "execution_count": 22,
   "metadata": {},
   "outputs": [
    {
     "data": {
      "text/plain": [
       "array([[ 2,  0,  0,  0,  0,  0,  2],\n",
       "       [ 1,  4,  0,  0,  0,  0,  1],\n",
       "       [ 0,  0,  7,  0,  0,  1,  2],\n",
       "       [ 0,  0,  0, 10,  0,  0,  0],\n",
       "       [ 0,  0,  1,  0, 13,  0,  0],\n",
       "       [ 0,  0,  0,  1,  0, 11,  0],\n",
       "       [ 0,  0,  1,  0,  0,  1, 15]])"
      ]
     },
     "execution_count": 22,
     "metadata": {},
     "output_type": "execute_result"
    }
   ],
   "source": [
    "from sklearn.metrics import confusion_matrix\n",
    "cm = confusion_matrix(y_test, best_clf.predict(X_test))\n",
    "cm"
   ]
  },
  {
   "cell_type": "code",
   "execution_count": 23,
   "metadata": {
    "scrolled": false
   },
   "outputs": [
    {
     "data": {
      "text/plain": [
       "Text(69.0, 0.5, 'Truth')"
      ]
     },
     "execution_count": 23,
     "metadata": {},
     "output_type": "execute_result"
    },
    {
     "data": {
      "image/png": "[encoded data removed]",
      "text/plain": [
       "<Figure size 720x504 with 2 Axes>"
      ]
     },
     "metadata": {
      "needs_background": "light"
     },
     "output_type": "display_data"
    }
   ],
   "source": [
    "import seaborn as sn\n",
    "plt.figure(figsize = (10,7))\n",
    "sn.heatmap(cm, annot=True)\n",
    "plt.xlabel('Predicted')\n",
    "plt.ylabel('Truth')"
   ]
  },
  {
   "cell_type": "markdown",
   "metadata": {},
   "source": [
    "### Save the trained model"
   ]
  },
  {
   "cell_type": "code",
   "execution_count": 24,
   "metadata": {
    "scrolled": true
   },
   "outputs": [],
   "source": [
    "import pickle\n",
    "# Save the model as a pickle in a file \n",
    "with open('saved_model', 'wb') as files:\n",
    "    pickle.dump(best_clf, files)"
   ]
  },
  {
   "cell_type": "code",
   "execution_count": 25,
   "metadata": {},
   "outputs": [
    {
     "data": {
      "text/plain": [
       "0.8493150684931506"
      ]
     },
     "execution_count": 25,
     "metadata": {},
     "output_type": "execute_result"
    }
   ],
   "source": [
    "with open('saved_model' , 'rb') as fp:\n",
    "    clf = pickle.load(fp)\n",
    "clf.score(X_test, y_test)"
   ]
  },
  {
   "cell_type": "markdown",
   "metadata": {},
   "source": [
    "### Save class dictionary"
   ]
  },
  {
   "cell_type": "code",
   "execution_count": 26,
   "metadata": {},
   "outputs": [],
   "source": [
    "import json\n",
    "with open(\"alias_dictionary.json\",\"w\") as f:\n",
    "    f.write(json.dumps(alias_dict))"
   ]
  }
 ],
 "metadata": {
  "kernelspec": {
   "display_name": "Python 3",
   "language": "python",
   "name": "python3"
  },
  "language_info": {
   "codemirror_mode": {
    "name": "ipython",
    "version": 3
   },
   "file_extension": ".py",
   "mimetype": "text/x-python",
   "name": "python",
   "nbconvert_exporter": "python",
   "pygments_lexer": "ipython3",
   "version": "3.8.10"
  }
 },
 "nbformat": 4,
 "nbformat_minor": 2
}
